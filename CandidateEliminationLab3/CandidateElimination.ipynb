{
 "cells": [
  {
   "cell_type": "markdown",
   "id": "c712eca0",
   "metadata": {},
   "source": [
    "### For a given set of training data examples stored in a .CSV file, implement and demonstrate the Candidate-Elimination algorithm to output a description of the set of all hypotheses consistent with the training examples.\n",
    "\n",
    "<p> Lab Program 3 AIML</p>\n"
   ]
  },
  {
   "cell_type": "code",
   "execution_count": 1,
   "id": "8b7a8a0e",
   "metadata": {},
   "outputs": [
    {
     "name": "stdout",
     "output_type": "stream",
     "text": [
      "\n",
      "Steps of Candidate Elimination Algorithm 1\n",
      "['Sunny', 'Warm', '?', 'Strong', 'Warm', 'Same']\n",
      "[['?', '?', '?', '?', '?', '?'], ['?', '?', '?', '?', '?', '?'], ['?', '?', '?', '?', '?', '?'], ['?', '?', '?', '?', '?', '?'], ['?', '?', '?', '?', '?', '?'], ['?', '?', '?', '?', '?', '?']]\n",
      "\n",
      "Steps of Candidate Elimination Algorithm 2\n",
      "['Sunny', 'Warm', '?', 'Strong', 'Warm', 'Same']\n",
      "[['?', '?', '?', '?', '?', '?'], ['?', '?', '?', '?', '?', '?'], ['?', '?', '?', '?', '?', '?'], ['?', '?', '?', '?', '?', '?'], ['?', '?', '?', '?', '?', '?'], ['?', '?', '?', '?', '?', '?']]\n",
      "\n",
      "Steps of Candidate Elimination Algorithm 3\n",
      "['Sunny', 'Warm', '?', 'Strong', 'Warm', 'Same']\n",
      "[['Sunny', '?', '?', '?', '?', '?'], ['?', 'Warm', '?', '?', '?', '?'], ['?', '?', '?', '?', '?', '?'], ['?', '?', '?', '?', '?', '?'], ['?', '?', '?', '?', '?', '?'], ['?', '?', '?', '?', '?', 'Same']]\n",
      "\n",
      "Steps of Candidate Elimination Algorithm 4\n",
      "['Sunny', 'Warm', '?', 'Strong', '?', '?']\n",
      "[['Sunny', '?', '?', '?', '?', '?'], ['?', 'Warm', '?', '?', '?', '?'], ['?', '?', '?', '?', '?', '?'], ['?', '?', '?', '?', '?', '?'], ['?', '?', '?', '?', '?', '?'], ['?', '?', '?', '?', '?', '?']]\n",
      "\n",
      "Final specific hypothesis:\n",
      " ['Sunny', 'Warm', '?', 'Strong', '?', '?']\n",
      "\n",
      "Final general hypothesis:\n",
      " [['Sunny', '?', '?', '?', '?', '?'], ['?', 'Warm', '?', '?', '?', '?']]\n"
     ]
    }
   ],
   "source": [
    "import csv\n",
    " \n",
    "with open(\"trainingexample.csv\") as f:\n",
    "    csv_file = csv.reader(f)\n",
    "    data = list(csv_file)\n",
    "    \n",
    "    s = data[1][:-1]\n",
    "    g = [['?' for i in range(len(s))] for j in range(len(s))]\n",
    " \n",
    "    for i in data:\n",
    "        if i[-1] == \"Yes\":\n",
    "            for j in range(len(s)):\n",
    "                if i[j] != s[j]:\n",
    "                    s[j] = '?'\n",
    "                    g[j][j] = '?'\n",
    " \n",
    "        elif i[-1] == \"No\":\n",
    "            for j in range(len(s)):\n",
    "                if i[j] != s[j]:\n",
    "                    g[j][j] = s[j]\n",
    "                else:\n",
    "                    g[j][j] = \"?\"\n",
    "        print(\"\\nSteps of Candidate Elimination Algorithm\", data.index(i)+1)\n",
    "        print(s)\n",
    "        print(g)\n",
    "    gh = []\n",
    "    for i in g:\n",
    "        for j in i:\n",
    "            if j != '?':\n",
    "                gh.append(i)\n",
    "                break\n",
    "    print(\"\\nFinal specific hypothesis:\\n\", s)\n",
    "    print(\"\\nFinal general hypothesis:\\n\", gh)"
   ]
  },
  {
   "cell_type": "code",
   "execution_count": null,
   "id": "cc6b04f8",
   "metadata": {},
   "outputs": [],
   "source": []
  }
 ],
 "metadata": {
  "kernelspec": {
   "display_name": "Python 3 (ipykernel)",
   "language": "python",
   "name": "python3"
  },
  "language_info": {
   "codemirror_mode": {
    "name": "ipython",
    "version": 3
   },
   "file_extension": ".py",
   "mimetype": "text/x-python",
   "name": "python",
   "nbconvert_exporter": "python",
   "pygments_lexer": "ipython3",
   "version": "3.10.0"
  }
 },
 "nbformat": 4,
 "nbformat_minor": 5
}
